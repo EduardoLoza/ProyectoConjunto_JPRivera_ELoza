{
 "cells": [
  {
   "cell_type": "markdown",
   "metadata": {},
   "source": [
    "## Figura 1\n",
    " Juan Pablo Rivera\n",
    " \n"
   ]
  },
  {
   "cell_type": "markdown",
   "metadata": {},
   "source": [
    "En la primera clase no tenia ninguna expectativa acerca de la clase, pero conforme escuche a mis compañeros y a lo que dijo el profesor acerca de la clase, pienso que va a ser una materia bastante pesada, con mucha programacion y mucha matematica, al igual que con muchos trabajos en equipo y tareas.\n",
    "\n",
    "Espero sacar el mejor provecho a la clase y aprender todas las tecnicas que el profesor me enseñe, pienso hacer todos los trabajos, o al menos intentarlos."
   ]
  },
  {
   "cell_type": "markdown",
   "metadata": {},
   "source": [
    "| i | *x*   | *f(x)*   |\n",
    "|---|-----|--------|\n",
    "|0  |-1   |  0.3678|\n",
    "| <span style=\"color:red\">1</span> |<span style=\"color:red\">-0.5</span> | <span style=\"color:red\">0.7788</span> |\n",
    "| <span style=\"color:blue\">2</span> |<span style=\"color:blue\">0</span>| <span style=\"color:blue\">1</span>|\n",
    "| <span style=\"color:red\">3</span> |<span style=\"color:red\">0.5</span> | <span style=\"color:red\">0.7788</span> ||\n",
    "| 4 | 1   | 0.3679 |"
   ]
  },
  {
   "cell_type": "markdown",
   "metadata": {},
   "source": [
    "Cuadro 1: Tabla de valores de *f(x)*"
   ]
  },
  {
   "cell_type": "markdown",
   "metadata": {},
   "source": [
    "\\begin{equation}  \\int_{x=-1}^{x=1} e^{-x^2} \\ dx≈ \\frac{0,5}{3}[f(-1)+f(1)+4(f(-0,5) + f(0,5)) + 2f(0)]\\end{equation}\n"
   ]
  },
  {
   "cell_type": "markdown",
   "metadata": {},
   "source": [
    "\n",
    "\\begin{equation}  ≈ \\frac{0,5}{3}[0,3678 +0,3678 +4(0,7788 + 0,7788) + 2\\cdot1]≈1,4943\\end{equation}"
   ]
  },
  {
   "cell_type": "markdown",
   "metadata": {},
   "source": [
    "A modo de verificación, se calculará por software, el valor del área para n = 100, un valor mucho más elevado al que se utilizó anteriormente. Si lo calculado previamente es correcto, se esperaría que se proximo al valor presentado a continuación para ser una buena aproximación.\n"
   ]
  },
  {
   "cell_type": "markdown",
   "metadata": {},
   "source": [
    "\\begin{equation}  \\int_{x=-1}^{x=1} e^{-x^2} \\ dx≈ 1,4936\\end{equation}\n"
   ]
  },
  {
   "cell_type": "markdown",
   "metadata": {},
   "source": [
    "# Figura 2\n"
   ]
  },
  {
   "cell_type": "markdown",
   "metadata": {},
   "source": [
    "| i      \t| 1   \t| 2   \t| 3   \t| 4   \t| 5 \t| 6 \t| 7  \t|\n",
    "|:------:|-----:\t|-----:\t|-----:\t|-----:\t|---:\t|---:\t|----:\t|\n",
    "|$E_{i}(V)$ | 12       \t| 10  \t| 24  \t| 12  \t| - \t| - \t| -  \t|\n",
    "|$r_{i}~(\\Omega)$      \t| 0.1 \t| 0.5 \t| 0.2 \t| 0.5 \t| - \t| - \t| -  \t|\n",
    "|$R_{i}~(\\Omega)$  \t    | 25  \t| 40  \t| 16  \t| 20  \t| 9 \t| 4 \t| 20 \t|"
   ]
  },
  {
   "cell_type": "markdown",
   "metadata": {},
   "source": [
    "<span style=\"color:blue\">Kemna y Vorst (1990)</span> muestran que las opciones aiáticas con media geométrica continua se pueden valuar con el mismo enfoque de las opciones *plain vanilla*; solo se deben cambiar los parámetros de volatilidad $\\sigma$ por $\\sigma_{a}$, y el costo de acarreo $b$ por $b_{A}$. </p>\n",
    "De acuerdo con Kemna y Vorst, las fórmulas para valuar una opción de compra y una opción de venta son:\n"
   ]
  },
  {
   "cell_type": "markdown",
   "metadata": {},
   "source": [
    " $c\\approx S_{t}e^{(b_{a}-r)(T-t)}\\phi(d_{1})-Ke^{-r(T-t)}\\phi(d_{2})$.\n",
    " \n",
    " $p\\approx Ke^{-r(T-t)}\\phi(-d_{2})-S_{t}e^{(b_{a}-r)(T-t)}\\phi(-d_{1})$\n",
    " "
   ]
  },
  {
   "cell_type": "markdown",
   "metadata": {},
   "source": [
    "con $d_{1}$ y $d_{2}$ dados por:"
   ]
  },
  {
   "cell_type": "markdown",
   "metadata": {},
   "source": [
    "$d_{1}=\\frac{ ln(S_{t}/K)+(b_{A}+1/2\\sigma_{a}^{2})(T-t)}{\\sigma\\sqrt{T-t}}$, </p>\n",
    "$d_{2}=d_{1}-\\sigma_{a}\\sqrt{T-t}$."
   ]
  },
  {
   "cell_type": "markdown",
   "metadata": {},
   "source": [
    "La función $\\phi(d)$ es la función de distribución acumulada de $E\\sim{N}(0,1)$. La volatilidad ajustada es igual a:"
   ]
  },
  {
   "cell_type": "markdown",
   "metadata": {},
   "source": [
    "$\\sigma_{a}=\\frac{\\sigma}{\\sqrt{3}}$,"
   ]
  },
  {
   "cell_type": "markdown",
   "metadata": {},
   "source": [
    "mientras que el costo de acarreo ajustado es:"
   ]
  },
  {
   "cell_type": "markdown",
   "metadata": {},
   "source": [
    "$b_{A}=\\frac{1}{2}(v-\\frac{\\sigma^{2}}{6})$."
   ]
  },
  {
   "cell_type": "markdown",
   "metadata": {},
   "source": [
    "### Expectativas del curso \n",
    "En este curso de Simulación de Procesos financieros espero que a través de la programación, pueda aprender a hacer simulaciones de datos financieros para poder tomar las mejores decisiones posibles."
   ]
  },
  {
   "cell_type": "code",
   "execution_count": null,
   "metadata": {},
   "outputs": [],
   "source": []
  }
 ],
 "metadata": {
  "kernelspec": {
   "display_name": "Python 3",
   "language": "python",
   "name": "python3"
  },
  "language_info": {
   "codemirror_mode": {
    "name": "ipython",
    "version": 3
   },
   "file_extension": ".py",
   "mimetype": "text/x-python",
   "name": "python",
   "nbconvert_exporter": "python",
   "pygments_lexer": "ipython3",
   "version": "3.7.4"
  }
 },
 "nbformat": 4,
 "nbformat_minor": 2
}
