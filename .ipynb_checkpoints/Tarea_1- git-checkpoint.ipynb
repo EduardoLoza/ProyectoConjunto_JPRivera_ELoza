{
 "cells": [
  {
   "cell_type": "markdown",
   "metadata": {},
   "source": [
    "<img style=\"float: left; margin: 30px 15px 15px 15px;\" src=\"https://pngimage.net/wp-content/uploads/2018/06/logo-iteso-png-5.png\" width=\"300\" height=\"500\" /> \n",
    "    \n",
    "    \n",
    "### <font color='navy'> Simulación de procesos financieros. \n",
    "\n",
    "**Nombres:** Juan Pablo Rivera Sahagún.\n",
    "\n",
    "**Fecha:** 31 de Septiembre del 2020.\n",
    "\n",
    "**Expediente** : if714314 y 713423.\n",
    "**Profesor:** Oscar David Jaramillo Zuluaga.\n",
    "\n",
    "# Tarea 1: Clase 3"
   ]
  },
  {
   "cell_type": "markdown",
   "metadata": {},
   "source": [
    "https://github.com/Jpriverasaha/ProyectoConjunto_JPRivera_ELoza"
   ]
  },
  {
   "cell_type": "markdown",
   "metadata": {},
   "source": [
    "# Tarea 1- git\n",
    "Este archivo contiene las pautas necesarias para crear el archivo conjunto en Github, usando los notebooks de Jupyter:\n",
    "\n",
    "1.  El archivo debe realizarse en parejas y sólo uno de los dos debe crear en su cuenta de *\"Github\"* un repositorio con el nombre **ProyectoConjunto\\_APELLIDO1\\_APELLIDO2**, a esta persona la llamaremos (ESTUDIANTE 1 ). El APELLIDO se debe de escribir (Iniciales del nombre y primer apellido), por ejemplo si yo creara el archivo lo debería de nombrar *ProyectoConjunto\\_ODJaramillo*. \n",
    "1.  Posteriormente, desde la cuenta del (ESTUDIANTE 2) 'aquel que no creó el repositorio anterior' ingresar al perfil del ESTUDIANTE 1 y en el repositorio creado en el paso 1, realizar un \"fork\" de este repositorio en su perfil, y además realizar los pasos en Gitkraken para hacer dicho repositorio \"Remoto (REMOTE)\" VER DICHO PROCEDIMIENTO EN LA CLASE **Clase2\\_GitTurorial2**.\n",
    "1.  Luego de realizados los pasos 1 y 2, el ESTUDIANTE 1 y ESTUDIANTE 2, desde su computador realizan un *clone* del repositorio creado en el numeral 1 en la carpeta que cada quién haya asignado para el curso en su PC. \n",
    "1.  Luego desde Jupyter el ESTUDIANTE 1, crear un nuevo ``notebook`` en el repositorio del paso 3. \n",
    "1.  En este nuevo notebook el ESTUDIANTE 1 y ESTUDIANTE 2, deben realizar una presentación describiendo sus expectativas del curso y la transcipción de la Figura 1 y Figura 2 respectivamente, haciendo uso de la sintaxis Markdown. Recuerden definir unas celdas donde cada usuario modificará el cuaderno de python para evitar futuros conflictos. \n",
    "\n",
    "**RECOMENDACIÓN:ANTES DE EMPEZAR A REALIZAR MUCHAS MODIFICACIONES DEL NOTEBOOK PRIMERO REALICEN CAMBIOS PEQUEÑOS EN EL ARCHIVO EN CONJUNTO Y VERIFIQUEN SI TANTO EL ``ESTUDIANTE 1`` COMO EL ``ESTUDIANTE 2``  RECIBEN LAS ACTUALIZACIONES QUE REALIZAN CADA UNO EN EL PROYECTO PARA VERIFICAR QUE EL REMOTE ESTUVO BIEN CONFIGURADO.**\n",
    ">Les recomiendo ver los siguientes enlaces para ver distintas funciones para escribir en markdown.\n",
    ">    - [Creador de tablas online](https://www.tablesgenerator.com/markdown_tables)\n",
    ">    - [Sintáxis markdown](https://joplinapp.org/markdown/)\n",
    "\n",
    "6. Cuando ya se encuentre el proyecto conjunto con la información del ESTUDIANTE 1 y ESTUDIANTE 2, el ``ESTUDIANTE 2`` el que no fue el creador del repositorio en github, debe de realizar un `pull request` con las modificaciones realizadas a el `ESTUDIANTE 1` para que éste realice un merge a la rama `master`, con las moficaciones propuestas por el `ESTUDIANTE 2`, TAL Y CÓMO SE REALIZÓ EN CLASE. (Recuerden que los pull request se generan en *Gitkraken* y se administran los comentarios o cambios propuestos por su compañero desde *Github* ''**ver Clase1\\_GitTurorial** para aclaración de dudas'' donde se explica el crear *branch y pull request*)"
   ]
  },
  {
   "cell_type": "markdown",
   "metadata": {},
   "source": [
    "### Expectativa Juan Pablo Rivera\n"
   ]
  },
  {
   "cell_type": "markdown",
   "metadata": {},
   "source": [
    "En la primera clase no tenia ninguna expectativa acerca de la clase, pero conforme escuche a mis compañeros y a lo que dijo el profesor acerca de la clase, pienso que va a ser una materia bastante pesada, con mucha programacion y mucha matematica, al igual que con muchos trabajos en equipo y tareas.\n",
    "\n",
    "Espero sacar el mejor provecho a la clase y aprender todas las tecnicas que el profesor me enseñe, pienso hacer todos los trabajos, o al menos intentarlos."
   ]
  },
  {
   "cell_type": "markdown",
   "metadata": {},
   "source": [
    "| i | *x*   | *f(x)*   |\n",
    "|---|-----|--------|\n",
    "|0  |-1   |  0.3678|\n",
    "| <span style=\"color:red\">1</span> |<span style=\"color:red\">-0.5</span> | <span style=\"color:red\">0.7788</span> |\n",
    "| <span style=\"color:blue\">2</span> |<span style=\"color:blue\">0</span>| <span style=\"color:blue\">1</span>|\n",
    "| <span style=\"color:red\">3</span> |<span style=\"color:red\">0.5</span> | <span style=\"color:red\">0.7788</span> ||\n",
    "| 4 | 1   | 0.3679 |"
   ]
  },
  {
   "cell_type": "markdown",
   "metadata": {},
   "source": [
    "Cuadro 1: Tabla de valores de *f(x)*"
   ]
  },
  {
   "cell_type": "markdown",
   "metadata": {},
   "source": [
    "\\begin{equation}  \\int_{x=-1}^{x=1} e^{-x^2} \\ dx\\approx \\frac{0,5}{3}[f(-1)+f(1)+4(f(-0,5) + f(0,5)) + 2f(0)]\\end{equation}\n"
   ]
  },
  {
   "cell_type": "markdown",
   "metadata": {},
   "source": [
    "\n",
    "\\begin{equation}  ≈ \\frac{0,5}{3}[0,3678 +0,3678 +4(0,7788 + 0,7788) + 2\\cdot1]\\approx1,4943\\end{equation}"
   ]
  },
  {
   "cell_type": "markdown",
   "metadata": {},
   "source": [
    "A modo de verificación, se calculará por software, el valor del área para n = 100, un valor mucho más elevado al que se utilizó anteriormente. Si lo calculado previamente es correcto, se esperaría que se proximo al valor presentado a continuación para ser una buena aproximación.\n"
   ]
  },
  {
   "cell_type": "markdown",
   "metadata": {},
   "source": [
    "\\begin{equation}  \\int_{x=-1}^{x=1} e^{-x^2} \\ dx\\approx 1,4936\\end{equation}\n"
   ]
  },
  {
   "cell_type": "markdown",
   "metadata": {},
   "source": [
    "# Figura 2\n",
    "\n",
    "Eduardo Loza"
   ]
  },
  {
   "cell_type": "markdown",
   "metadata": {},
   "source": [
    "| i      \t| 1   \t| 2   \t| 3   \t| 4   \t| 5 \t| 6 \t| 7  \t|\n",
    "|:------:|-----:\t|-----:\t|-----:\t|-----:\t|---:\t|---:\t|----:\t|\n",
    "|$E_{i}(V)$ | 12       \t| 10  \t| 24  \t| 12  \t| - \t| - \t| -  \t|\n",
    "|$r_{i}~(\\Omega)$      \t| 0.1 \t| 0.5 \t| 0.2 \t| 0.5 \t| - \t| - \t| -  \t|\n",
    "|$R_{i}~(\\Omega)$  \t    | 25  \t| 40  \t| 16  \t| 20  \t| 9 \t| 4 \t| 20 \t|"
   ]
  },
  {
   "cell_type": "markdown",
   "metadata": {},
   "source": [
    "<span style=\"color:blue\">Kemna y Vorst (1990)</span> muestran que las opciones aiáticas con media geométrica continua se pueden valuar con el mismo enfoque de las opciones *plain vanilla*; solo se deben cambiar los parámetros de volatilidad $\\sigma$ por $\\sigma_{a}$, y el costo de acarreo $b$ por $b_{A}$. </p>\n",
    "De acuerdo con Kemna y Vorst, las fórmulas para valuar una opción de compra y una opción de venta son:\n"
   ]
  },
  {
   "cell_type": "markdown",
   "metadata": {},
   "source": [
    " $c\\approx S_{t}e^{(b_{a}-r)(T-t)}\\phi(d_{1})-Ke^{-r(T-t)}\\phi(d_{2})$.\n",
    " \n",
    " $p\\approx Ke^{-r(T-t)}\\phi(-d_{2})-S_{t}e^{(b_{a}-r)(T-t)}\\phi(-d_{1})$\n",
    " "
   ]
  },
  {
   "cell_type": "markdown",
   "metadata": {},
   "source": [
    "con $d_{1}$ y $d_{2}$ dados por:"
   ]
  },
  {
   "cell_type": "markdown",
   "metadata": {},
   "source": [
    "$d_{1}=\\frac{ ln(S_{t}/K)+(b_{A}+1/2\\sigma_{a}^{2})(T-t)}{\\sigma\\sqrt{T-t}}$, </p>\n",
    "$d_{2}=d_{1}-\\sigma_{a}\\sqrt{T-t}$."
   ]
  },
  {
   "cell_type": "markdown",
   "metadata": {},
   "source": [
    "La función $\\phi(d)$ es la función de distribución acumulada de $E\\sim{N}(0,1)$. La volatilidad ajustada es igual a:"
   ]
  },
  {
   "cell_type": "markdown",
   "metadata": {},
   "source": [
    "$\\sigma_{a}=\\frac{\\sigma}{\\sqrt{3}}$,"
   ]
  },
  {
   "cell_type": "markdown",
   "metadata": {},
   "source": [
    "mientras que el costo de acarreo ajustado es:"
   ]
  },
  {
   "cell_type": "markdown",
   "metadata": {},
   "source": [
    "$b_{A}=\\frac{1}{2}(v-\\frac{\\sigma^{2}}{6})$."
   ]
  },
  {
   "cell_type": "markdown",
   "metadata": {},
   "source": [
    "### Expectativas del curso \n",
    "En este curso de Simulación de Procesos financieros espero que a través de la programación, pueda aprender a hacer simulaciones de datos financieros para poder tomar las mejores decisiones posibles."
   ]
  }
 ],
 "metadata": {
  "kernelspec": {
   "display_name": "Python 3",
   "language": "python",
   "name": "python3"
  },
  "language_info": {
   "codemirror_mode": {
    "name": "ipython",
    "version": 3
   },
   "file_extension": ".py",
   "mimetype": "text/x-python",
   "name": "python",
   "nbconvert_exporter": "python",
   "pygments_lexer": "ipython3",
   "version": "3.7.3"
  }
 },
 "nbformat": 4,
 "nbformat_minor": 2
}
